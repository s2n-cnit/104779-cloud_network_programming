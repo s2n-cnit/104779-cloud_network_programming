{
 "cells": [
  {
   "cell_type": "code",
   "execution_count": 18,
   "id": "848f6810-88be-4d59-87b5-cca93ee72733",
   "metadata": {
    "editable": true,
    "slideshow": {
     "slide_type": ""
    },
    "tags": []
   },
   "outputs": [
    {
     "name": "stdout",
     "output_type": "stream",
     "text": [
      "2*[3,4] = [3, 4, 3, 4]\n"
     ]
    }
   ],
   "source": [
    "import socket\n",
    "\n",
    "# Define server address and port\n",
    "HOST = \"localhost\"  # The server's hostname or IP address\n",
    "PORT = 65432        # The port used by the server\n",
    "\n",
    "with socket.socket(socket.AF_INET, socket.SOCK_STREAM) as s:\n",
    "    s.connect((HOST, PORT))\n",
    "    input = \"2*[3,4]\"\n",
    "    s.sendall(input.encode())\n",
    "    output = s.recv(1024).decode()\n",
    "    print(f\"{input} = {output}\")"
   ]
  }
 ],
 "metadata": {
  "kernelspec": {
   "display_name": "Python 3",
   "language": "python",
   "name": "python3"
  },
  "language_info": {
   "codemirror_mode": {
    "name": "ipython",
    "version": 3
   },
   "file_extension": ".py",
   "mimetype": "text/x-python",
   "name": "python",
   "nbconvert_exporter": "python",
   "pygments_lexer": "ipython3",
   "version": "3.13.2"
  }
 },
 "nbformat": 4,
 "nbformat_minor": 5
}
