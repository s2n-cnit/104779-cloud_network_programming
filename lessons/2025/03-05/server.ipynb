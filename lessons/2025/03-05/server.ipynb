{
 "cells": [
  {
   "cell_type": "code",
   "execution_count": null,
   "id": "09a2f307-6fea-4c7e-84ea-f8f96661a7c9",
   "metadata": {
    "tags": []
   },
   "outputs": [
    {
     "name": "stdout",
     "output_type": "stream",
     "text": [
      "Start\n",
      "Connected by ('127.0.0.1', 58676)\n",
      "Connected by ('127.0.0.1', 58703)\n"
     ]
    }
   ],
   "source": [
    "import socket\n",
    "from math import sin\n",
    "\n",
    "# Define server address and port\n",
    "HOST = \"localhost\"  # Standard loopback interface address (localhost)\n",
    "PORT = 65432        # Port to listen on (non-privileged ports are > 1023)\n",
    "\n",
    "with socket.socket(socket.AF_INET, socket.SOCK_STREAM) as s:\n",
    "    print(\"Start\")\n",
    "    s.bind((HOST, PORT))\n",
    "    s.listen()\n",
    "    while True:\n",
    "        conn, addr = s.accept()\n",
    "        with conn:\n",
    "            print(f\"Connected by {addr}\")\n",
    "            input = conn.recv(1024).decode()\n",
    "            output = eval(input)\n",
    "            conn.sendall(str(output).encode())  # Echo back the received data\n",
    "\n",
    "print(\"Server closed\")"
   ]
  }
 ],
 "metadata": {
  "kernelspec": {
   "display_name": "Python 3",
   "language": "python",
   "name": "python3"
  },
  "language_info": {
   "codemirror_mode": {
    "name": "ipython",
    "version": 3
   },
   "file_extension": ".py",
   "mimetype": "text/x-python",
   "name": "python",
   "nbconvert_exporter": "python",
   "pygments_lexer": "ipython3",
   "version": "3.13.2"
  }
 },
 "nbformat": 4,
 "nbformat_minor": 5
}
